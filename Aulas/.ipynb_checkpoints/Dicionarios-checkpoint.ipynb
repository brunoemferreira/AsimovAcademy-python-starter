{
 "cells": [
  {
   "cell_type": "markdown",
   "id": "332585ee-c7a5-4daa-9f6a-09c2abdda206",
   "metadata": {},
   "source": [
    "## Dicionários"
   ]
  },
  {
   "cell_type": "code",
   "execution_count": 1,
   "id": "e7d5f3a0-b6fa-4037-aabb-c11e321fa7c6",
   "metadata": {
    "tags": []
   },
   "outputs": [],
   "source": [
    "dict_dicionario = {\"nome\":\"Bruno\", \"idade\": 43, \"filhos\":[\"Ana\",\"Victor\"]}"
   ]
  },
  {
   "cell_type": "code",
   "execution_count": 2,
   "id": "4edc82e7-f6fb-4278-af91-4e4a227b0bcf",
   "metadata": {
    "tags": []
   },
   "outputs": [
    {
     "data": {
      "text/plain": [
       "{'nome': 'Bruno', 'idade': 43, 'filhos': ['Ana', 'Victor']}"
      ]
     },
     "execution_count": 2,
     "metadata": {},
     "output_type": "execute_result"
    }
   ],
   "source": [
    "dict_dicionario"
   ]
  },
  {
   "cell_type": "code",
   "execution_count": 6,
   "id": "2457dd2c-e43c-490e-9afe-63a8c4d1160c",
   "metadata": {
    "tags": []
   },
   "outputs": [],
   "source": [
    "dict_dicionario[\"nome\"] = \"Bruno\""
   ]
  },
  {
   "cell_type": "code",
   "execution_count": 7,
   "id": "8f714106-6a85-4174-b874-c7f0cbe7521b",
   "metadata": {
    "tags": []
   },
   "outputs": [],
   "source": [
    "dict_dicionario[\"idade\"] = 41"
   ]
  },
  {
   "cell_type": "code",
   "execution_count": 8,
   "id": "4bb8a19b-7f4a-483d-bf19-e3e642cc5aa0",
   "metadata": {
    "tags": []
   },
   "outputs": [
    {
     "data": {
      "text/plain": [
       "{'nome': 'Bruno', 'idade': 41, 'filhos': ['Ana', 'Victor']}"
      ]
     },
     "execution_count": 8,
     "metadata": {},
     "output_type": "execute_result"
    }
   ],
   "source": [
    "dict_dicionario"
   ]
  },
  {
   "cell_type": "code",
   "execution_count": 9,
   "id": "c603cfdf-90df-4136-9b1d-8071bebc927c",
   "metadata": {
    "tags": []
   },
   "outputs": [],
   "source": [
    "dict_dicionario[\"cidade\"] = \"Campinas\""
   ]
  },
  {
   "cell_type": "code",
   "execution_count": 10,
   "id": "d8fd9956-38c7-4e23-becd-e81b6dc92f04",
   "metadata": {
    "tags": []
   },
   "outputs": [
    {
     "data": {
      "text/plain": [
       "{'nome': 'Bruno',\n",
       " 'idade': 41,\n",
       " 'filhos': ['Ana', 'Victor'],\n",
       " 'cidade': 'Campinas'}"
      ]
     },
     "execution_count": 10,
     "metadata": {},
     "output_type": "execute_result"
    }
   ],
   "source": [
    "dict_dicionario"
   ]
  },
  {
   "cell_type": "code",
   "execution_count": 12,
   "id": "ae99814f-01c2-493a-ac85-f529e55b13f5",
   "metadata": {
    "tags": []
   },
   "outputs": [],
   "source": [
    "dict_dicionario[\"variavel aleatoria\"] = {\"a\": 1, \"b\":2}"
   ]
  },
  {
   "cell_type": "code",
   "execution_count": 13,
   "id": "d57b7f47-e998-4293-933d-e3e1e1225821",
   "metadata": {
    "tags": []
   },
   "outputs": [
    {
     "data": {
      "text/plain": [
       "{'nome': 'Bruno',\n",
       " 'idade': 41,\n",
       " 'filhos': ['Ana', 'Victor'],\n",
       " 'cidade': 'Campinas',\n",
       " 'variavel aleatoria': {'a': 1, 'b': 2}}"
      ]
     },
     "execution_count": 13,
     "metadata": {},
     "output_type": "execute_result"
    }
   ],
   "source": [
    "dict_dicionario"
   ]
  },
  {
   "cell_type": "code",
   "execution_count": 14,
   "id": "12e5de1d-cf70-40e7-9412-fb4b6cb77d75",
   "metadata": {
    "tags": []
   },
   "outputs": [
    {
     "data": {
      "text/plain": [
       "dict_keys(['nome', 'idade', 'filhos', 'cidade', 'variavel aleatoria'])"
      ]
     },
     "execution_count": 14,
     "metadata": {},
     "output_type": "execute_result"
    }
   ],
   "source": [
    "dict_dicionario.keys()"
   ]
  },
  {
   "cell_type": "code",
   "execution_count": 15,
   "id": "fb782478-7566-483e-8110-aeadc396d21e",
   "metadata": {
    "tags": []
   },
   "outputs": [
    {
     "data": {
      "text/plain": [
       "dict_items([('nome', 'Bruno'), ('idade', 41), ('filhos', ['Ana', 'Victor']), ('cidade', 'Campinas'), ('variavel aleatoria', {'a': 1, 'b': 2})])"
      ]
     },
     "execution_count": 15,
     "metadata": {},
     "output_type": "execute_result"
    }
   ],
   "source": [
    "dict_dicionario.items()"
   ]
  },
  {
   "cell_type": "code",
   "execution_count": 16,
   "id": "e1dc894f-019e-401a-af4d-5a94cd5ad240",
   "metadata": {
    "tags": []
   },
   "outputs": [
    {
     "data": {
      "text/plain": [
       "dict_items([('nome', 'Bruno'), ('idade', 41), ('filhos', ['Ana', 'Victor']), ('cidade', 'Campinas'), ('variavel aleatoria', {'a': 1, 'b': 2})])"
      ]
     },
     "execution_count": 16,
     "metadata": {},
     "output_type": "execute_result"
    }
   ],
   "source": [
    "dict_dicionario.items()"
   ]
  },
  {
   "cell_type": "code",
   "execution_count": null,
   "id": "26635a44-14fa-4683-8a06-d9c0aee3f8df",
   "metadata": {},
   "outputs": [],
   "source": []
  }
 ],
 "metadata": {
  "kernelspec": {
   "display_name": "Python 3 (ipykernel)",
   "language": "python",
   "name": "python3"
  },
  "language_info": {
   "codemirror_mode": {
    "name": "ipython",
    "version": 3
   },
   "file_extension": ".py",
   "mimetype": "text/x-python",
   "name": "python",
   "nbconvert_exporter": "python",
   "pygments_lexer": "ipython3",
   "version": "3.11.5"
  }
 },
 "nbformat": 4,
 "nbformat_minor": 5
}
