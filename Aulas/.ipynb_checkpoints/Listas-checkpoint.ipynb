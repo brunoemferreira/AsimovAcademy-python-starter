{
 "cells": [
  {
   "cell_type": "markdown",
   "id": "36547d48-692f-49af-9a07-d29262277e47",
   "metadata": {},
   "source": [
    "## Listas"
   ]
  },
  {
   "cell_type": "code",
   "execution_count": 1,
   "id": "67cf3721-6090-401e-8dfd-0261527c2148",
   "metadata": {
    "tags": []
   },
   "outputs": [],
   "source": [
    "minha_lista = [1,2,3]"
   ]
  },
  {
   "cell_type": "code",
   "execution_count": 2,
   "id": "253aa37c-4680-42c0-ae16-3f47823c16f3",
   "metadata": {
    "tags": []
   },
   "outputs": [
    {
     "data": {
      "text/plain": [
       "[1, 2, 3]"
      ]
     },
     "execution_count": 2,
     "metadata": {},
     "output_type": "execute_result"
    }
   ],
   "source": [
    "minha_lista"
   ]
  },
  {
   "cell_type": "code",
   "execution_count": 3,
   "id": "bff2278e-f4cd-4a17-8bcb-db2e378a226e",
   "metadata": {
    "tags": []
   },
   "outputs": [
    {
     "data": {
      "text/plain": [
       "list"
      ]
     },
     "execution_count": 3,
     "metadata": {},
     "output_type": "execute_result"
    }
   ],
   "source": [
    "type(minha_lista)"
   ]
  },
  {
   "cell_type": "code",
   "execution_count": 4,
   "id": "862dfffc-f441-4d31-ad2f-86ebd83469e7",
   "metadata": {
    "tags": []
   },
   "outputs": [
    {
     "data": {
      "text/plain": [
       "1"
      ]
     },
     "execution_count": 4,
     "metadata": {},
     "output_type": "execute_result"
    }
   ],
   "source": [
    "minha_lista[0]"
   ]
  },
  {
   "cell_type": "code",
   "execution_count": 5,
   "id": "d23fab7f-7c6a-4691-8167-fae5e69300c7",
   "metadata": {
    "tags": []
   },
   "outputs": [
    {
     "data": {
      "text/plain": [
       "[2]"
      ]
     },
     "execution_count": 5,
     "metadata": {},
     "output_type": "execute_result"
    }
   ],
   "source": [
    "minha_lista[1:-1]"
   ]
  },
  {
   "cell_type": "code",
   "execution_count": 6,
   "id": "49a46f76-d339-4d43-9f38-d43afddc02be",
   "metadata": {
    "tags": []
   },
   "outputs": [],
   "source": [
    "minha_lista = [1,2,\"hello\",[1,2,3]]"
   ]
  },
  {
   "cell_type": "code",
   "execution_count": 7,
   "id": "17c8c45b-8f1f-487d-be34-2a75eeae51df",
   "metadata": {
    "tags": []
   },
   "outputs": [
    {
     "data": {
      "text/plain": [
       "[1, 2, 3]"
      ]
     },
     "execution_count": 7,
     "metadata": {},
     "output_type": "execute_result"
    }
   ],
   "source": [
    "minha_lista[3]"
   ]
  },
  {
   "cell_type": "code",
   "execution_count": 8,
   "id": "ec19bd7f-8d17-4c51-93be-827bc3220594",
   "metadata": {
    "tags": []
   },
   "outputs": [
    {
     "data": {
      "text/plain": [
       "[2, 3]"
      ]
     },
     "execution_count": 8,
     "metadata": {},
     "output_type": "execute_result"
    }
   ],
   "source": [
    "minha_lista[3][1:]"
   ]
  },
  {
   "cell_type": "code",
   "execution_count": 9,
   "id": "2c82d938-4f8c-4875-a56f-2a6587f8053c",
   "metadata": {
    "tags": []
   },
   "outputs": [
    {
     "data": {
      "text/plain": [
       "'HELLO'"
      ]
     },
     "execution_count": 9,
     "metadata": {},
     "output_type": "execute_result"
    }
   ],
   "source": [
    "minha_lista[2].upper()"
   ]
  },
  {
   "cell_type": "code",
   "execution_count": 10,
   "id": "c8716045-ed43-4340-bf2b-d582c137a6b6",
   "metadata": {
    "tags": []
   },
   "outputs": [
    {
     "data": {
      "text/plain": [
       "[1, 2, 'hello', [1, 2, 3], 3]"
      ]
     },
     "execution_count": 10,
     "metadata": {},
     "output_type": "execute_result"
    }
   ],
   "source": [
    "minha_lista + [3]"
   ]
  },
  {
   "cell_type": "code",
   "execution_count": 11,
   "id": "ec478059-874c-4c08-9828-ba0bfd24d50e",
   "metadata": {
    "tags": []
   },
   "outputs": [
    {
     "data": {
      "text/plain": [
       "[1, 2, 'hello', [1, 2, 3], 1, 2, 'hello', [1, 2, 3]]"
      ]
     },
     "execution_count": 11,
     "metadata": {},
     "output_type": "execute_result"
    }
   ],
   "source": [
    "minha_lista * 2"
   ]
  },
  {
   "cell_type": "markdown",
   "id": "4656f95e-5829-43d7-a310-206c03c52ea1",
   "metadata": {},
   "source": [
    "## Métodos Básicos de Listas"
   ]
  },
  {
   "cell_type": "code",
   "execution_count": 12,
   "id": "be293496-4592-46d5-a157-746ba6dd0e6b",
   "metadata": {
    "tags": []
   },
   "outputs": [],
   "source": [
    "l = [1,2,3]"
   ]
  },
  {
   "cell_type": "code",
   "execution_count": 13,
   "id": "90d39796-2f50-4df5-a2a3-b964fa5a60eb",
   "metadata": {
    "tags": []
   },
   "outputs": [],
   "source": [
    "l.append(\"4\")"
   ]
  },
  {
   "cell_type": "code",
   "execution_count": 14,
   "id": "ec716101-597a-4939-8c27-57fb3c585c5e",
   "metadata": {
    "tags": []
   },
   "outputs": [
    {
     "data": {
      "text/plain": [
       "[1, 2, 3, '4']"
      ]
     },
     "execution_count": 14,
     "metadata": {},
     "output_type": "execute_result"
    }
   ],
   "source": [
    "l"
   ]
  },
  {
   "cell_type": "code",
   "execution_count": 15,
   "id": "b98f0535-5747-471c-a824-22bf9a2ff7f6",
   "metadata": {
    "tags": []
   },
   "outputs": [
    {
     "data": {
      "text/plain": [
       "'4'"
      ]
     },
     "execution_count": 15,
     "metadata": {},
     "output_type": "execute_result"
    }
   ],
   "source": [
    "l.pop()"
   ]
  },
  {
   "cell_type": "code",
   "execution_count": 16,
   "id": "b6d66f2b-b0e9-4f5c-98e9-1816c4776946",
   "metadata": {
    "tags": []
   },
   "outputs": [
    {
     "data": {
      "text/plain": [
       "[1, 2, 3]"
      ]
     },
     "execution_count": 16,
     "metadata": {},
     "output_type": "execute_result"
    }
   ],
   "source": [
    "l"
   ]
  },
  {
   "cell_type": "code",
   "execution_count": 17,
   "id": "952526fd-ede5-4e7e-83ca-401634be3c42",
   "metadata": {
    "tags": []
   },
   "outputs": [],
   "source": [
    "new_lista = [\"a\",\"b\",\"c\",\"d\"]"
   ]
  },
  {
   "cell_type": "code",
   "execution_count": 18,
   "id": "0a2ea4af-80cf-4343-adf6-a126ee26ca34",
   "metadata": {
    "tags": []
   },
   "outputs": [],
   "source": [
    "new_lista.sort()"
   ]
  },
  {
   "cell_type": "code",
   "execution_count": 19,
   "id": "63f2f76d-9a02-4114-b759-1a29e98af71b",
   "metadata": {
    "tags": []
   },
   "outputs": [
    {
     "data": {
      "text/plain": [
       "['a', 'b', 'c', 'd']"
      ]
     },
     "execution_count": 19,
     "metadata": {},
     "output_type": "execute_result"
    }
   ],
   "source": [
    "new_lista"
   ]
  },
  {
   "cell_type": "code",
   "execution_count": 20,
   "id": "a3dd7176-ee40-4062-bcf1-fab89b073ca7",
   "metadata": {
    "tags": []
   },
   "outputs": [],
   "source": [
    "new_lista.reverse()"
   ]
  },
  {
   "cell_type": "code",
   "execution_count": 21,
   "id": "60964f7b-74cc-4158-8912-678f921895bd",
   "metadata": {
    "tags": []
   },
   "outputs": [
    {
     "data": {
      "text/plain": [
       "['d', 'c', 'b', 'a']"
      ]
     },
     "execution_count": 21,
     "metadata": {},
     "output_type": "execute_result"
    }
   ],
   "source": [
    "new_lista"
   ]
  },
  {
   "cell_type": "code",
   "execution_count": 24,
   "id": "cf5e8be9-f275-4c21-bfb3-b1bdf3677416",
   "metadata": {
    "tags": []
   },
   "outputs": [],
   "source": [
    "list1 = [1,2,3]\n",
    "list2 = [4,5,6]\n",
    "list3 = [7,8,9]"
   ]
  },
  {
   "cell_type": "code",
   "execution_count": 25,
   "id": "e5285d1d-4907-448b-9506-c2782355138f",
   "metadata": {
    "tags": []
   },
   "outputs": [],
   "source": [
    "list4 = [list1, list2, list3]"
   ]
  },
  {
   "cell_type": "code",
   "execution_count": 26,
   "id": "571f1ee1-0064-4593-985b-d8621289d92f",
   "metadata": {
    "tags": []
   },
   "outputs": [
    {
     "data": {
      "text/plain": [
       "[[1, 2, 3], [4, 5, 6], [7, 8, 9]]"
      ]
     },
     "execution_count": 26,
     "metadata": {},
     "output_type": "execute_result"
    }
   ],
   "source": [
    "list4"
   ]
  },
  {
   "cell_type": "code",
   "execution_count": 27,
   "id": "c3421331-d188-410a-9e20-25ecad494363",
   "metadata": {
    "tags": []
   },
   "outputs": [
    {
     "data": {
      "text/plain": [
       "1"
      ]
     },
     "execution_count": 27,
     "metadata": {},
     "output_type": "execute_result"
    }
   ],
   "source": [
    "list4[0][0]"
   ]
  },
  {
   "cell_type": "code",
   "execution_count": null,
   "id": "63d9a3d7-fe7b-40d9-ae3d-ece2a7b8d901",
   "metadata": {},
   "outputs": [],
   "source": []
  }
 ],
 "metadata": {
  "kernelspec": {
   "display_name": "Python 3 (ipykernel)",
   "language": "python",
   "name": "python3"
  },
  "language_info": {
   "codemirror_mode": {
    "name": "ipython",
    "version": 3
   },
   "file_extension": ".py",
   "mimetype": "text/x-python",
   "name": "python",
   "nbconvert_exporter": "python",
   "pygments_lexer": "ipython3",
   "version": "3.11.5"
  }
 },
 "nbformat": 4,
 "nbformat_minor": 5
}
