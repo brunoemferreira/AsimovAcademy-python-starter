{
 "cells": [
  {
   "cell_type": "markdown",
   "id": "4d4f8fbd-c738-4938-a1ca-fb0dff460706",
   "metadata": {},
   "source": [
    "## Tuplas\n",
    "* Ao contrário das listas nas tuplas seus valores são imutáveis"
   ]
  },
  {
   "cell_type": "code",
   "execution_count": 1,
   "id": "0ffe7ffc-a865-4129-b6a0-01a9b42375b7",
   "metadata": {
    "tags": []
   },
   "outputs": [],
   "source": [
    "t = (1,2,3)"
   ]
  },
  {
   "cell_type": "code",
   "execution_count": 2,
   "id": "1c6469a1-55da-4c68-8a8b-0bc67e8ddb2b",
   "metadata": {
    "tags": []
   },
   "outputs": [
    {
     "data": {
      "text/plain": [
       "2"
      ]
     },
     "execution_count": 2,
     "metadata": {},
     "output_type": "execute_result"
    }
   ],
   "source": [
    "t[1]"
   ]
  },
  {
   "cell_type": "code",
   "execution_count": 4,
   "id": "d2359f86-9f70-4c4a-8499-3fd72952dbd9",
   "metadata": {
    "tags": []
   },
   "outputs": [
    {
     "data": {
      "text/plain": [
       "(1, 2, 3)"
      ]
     },
     "execution_count": 4,
     "metadata": {},
     "output_type": "execute_result"
    }
   ],
   "source": [
    "t"
   ]
  },
  {
   "cell_type": "code",
   "execution_count": 5,
   "id": "405e02fa-b088-42cf-aa88-52f9714072fc",
   "metadata": {
    "tags": []
   },
   "outputs": [],
   "source": [
    "a,b =(1,2) "
   ]
  },
  {
   "cell_type": "code",
   "execution_count": 6,
   "id": "7969283b-97b9-461a-817a-7a03c7071f95",
   "metadata": {
    "tags": []
   },
   "outputs": [
    {
     "data": {
      "text/plain": [
       "1"
      ]
     },
     "execution_count": 6,
     "metadata": {},
     "output_type": "execute_result"
    }
   ],
   "source": [
    "a"
   ]
  },
  {
   "cell_type": "code",
   "execution_count": 8,
   "id": "cf4b92b0-88f0-4dcc-ad9e-2e653545d652",
   "metadata": {
    "tags": []
   },
   "outputs": [
    {
     "data": {
      "text/plain": [
       "2"
      ]
     },
     "execution_count": 8,
     "metadata": {},
     "output_type": "execute_result"
    }
   ],
   "source": [
    "b"
   ]
  },
  {
   "cell_type": "code",
   "execution_count": null,
   "id": "cbedeeaf-473c-44f2-8a3b-e3977f5bf819",
   "metadata": {},
   "outputs": [],
   "source": []
  }
 ],
 "metadata": {
  "kernelspec": {
   "display_name": "Python 3 (ipykernel)",
   "language": "python",
   "name": "python3"
  },
  "language_info": {
   "codemirror_mode": {
    "name": "ipython",
    "version": 3
   },
   "file_extension": ".py",
   "mimetype": "text/x-python",
   "name": "python",
   "nbconvert_exporter": "python",
   "pygments_lexer": "ipython3",
   "version": "3.11.5"
  }
 },
 "nbformat": 4,
 "nbformat_minor": 5
}
